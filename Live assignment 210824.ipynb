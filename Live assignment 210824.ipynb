{
 "cells": [
  {
   "cell_type": "markdown",
   "id": "e4eafc5c-344c-4edb-b589-8c0b63e829c9",
   "metadata": {},
   "source": [
    "### Q 1:- Explain the key features of python that make it a popular ch\n"
   ]
  },
  {
   "cell_type": "markdown",
   "id": "d9e95041-0aa3-48b6-a128-749aaf2ebdae",
   "metadata": {},
   "source": [
    "### Q 2:-Describe the role of predefined keywords in python and provide examples of how they are used in a "
   ]
  },
  {
   "cell_type": "markdown",
   "id": "aaff9793-486c-4a69-837e-f1661def99f2",
   "metadata": {},
   "source": [
    "##### Ans:-Keywords in python are predefined words that are not to be used as any other kind of identifiers like for example various name and functions name.The keyword are a part of syntax in the language with a special meaning associated with them. they play a major role in python code by defining its structure and logic. lets take a look on the usage of different types of keywords in python. "
   ]
  },
  {
   "cell_type": "markdown",
   "id": "e2fa57c5-40e3-4bf7-8807-48e93705b963",
   "metadata": {},
   "source": [
    "###  Value Keywords:-\n",
    "#### Value keywords are used to represent specific value in python.\n",
    "#### a). True, False:- They both are used in logical expressions and repersent the boolean value 'True' and 'False'.\n",
    "#### For Example \n"
   ]
  },
  {
   "cell_type": "code",
   "execution_count": 70,
   "id": "bb9d115a-978c-4468-8634-e8de6083c284",
   "metadata": {},
   "outputs": [
    {
     "name": "stdout",
     "output_type": "stream",
     "text": [
      "False\n",
      "True\n"
     ]
    }
   ],
   "source": [
    "a = 5\n",
    "b = 8\n",
    "print(a > b)\n",
    "print(a < b)"
   ]
  },
  {
   "cell_type": "markdown",
   "id": "83fdb528-bc29-46c8-ae0e-c91ceaca0e4b",
   "metadata": {},
   "source": [
    "#### b). None :- It is used to represent that there is no valuse or it is null."
   ]
  },
  {
   "cell_type": "code",
   "execution_count": 75,
   "id": "064bdd5b-79ad-47b8-a70a-284d43ed2527",
   "metadata": {},
   "outputs": [
    {
     "data": {
      "text/plain": [
       "NoneType"
      ]
     },
     "execution_count": 75,
     "metadata": {},
     "output_type": "execute_result"
    }
   ],
   "source": [
    "c = None\n",
    "type(c)"
   ]
  },
  {
   "cell_type": "markdown",
   "id": "10f25b2a-3c59-482f-bad9-b898288a066f",
   "metadata": {},
   "source": [
    "### Operator Keywords \n",
    "#### The Operator keywords are used to perform logical and comparison operations in a python program."
   ]
  },
  {
   "cell_type": "markdown",
   "id": "c3461d58-324a-4687-bb58-41bf24a09df2",
   "metadata": {},
   "source": [
    "### a). and \n",
    "#### It will return 'True' when both the operands are 'True'.\n",
    "\n"
   ]
  },
  {
   "cell_type": "code",
   "execution_count": 87,
   "id": "0d6c7cac-dfc6-4263-8b65-db93880cd446",
   "metadata": {},
   "outputs": [
    {
     "name": "stdout",
     "output_type": "stream",
     "text": [
      "False\n"
     ]
    }
   ],
   "source": [
    "a = True\n",
    "b = False\n",
    "print(a and b)"
   ]
  },
  {
   "cell_type": "markdown",
   "id": "deda55c5-14b2-4bc0-acf4-07ac55b3b60e",
   "metadata": {},
   "source": [
    "### b). Or"
   ]
  },
  {
   "cell_type": "markdown",
   "id": "45a00f79-e9d8-4e5b-992e-2ce3c7857f66",
   "metadata": {},
   "source": [
    "##### It will return ' True' when atleast one of the operand is True."
   ]
  },
  {
   "cell_type": "code",
   "execution_count": 97,
   "id": "70a350cf-0d79-4d95-b214-58dabeffde09",
   "metadata": {},
   "outputs": [
    {
     "name": "stdout",
     "output_type": "stream",
     "text": [
      "True\n"
     ]
    }
   ],
   "source": [
    "print(a or b)"
   ]
  },
  {
   "cell_type": "markdown",
   "id": "a7909cd5-d6cf-4cbd-9d21-8e34f4d534d6",
   "metadata": {},
   "source": [
    "### c). not"
   ]
  },
  {
   "cell_type": "markdown",
   "id": "af3a1116-4550-4142-9994-42ee3fab1675",
   "metadata": {},
   "source": [
    "##### It will return the opposite of the operand."
   ]
  },
  {
   "cell_type": "code",
   "execution_count": 103,
   "id": "90562f19-ad14-437f-90d9-7a87900ed0d6",
   "metadata": {},
   "outputs": [
    {
     "name": "stdout",
     "output_type": "stream",
     "text": [
      "False\n"
     ]
    }
   ],
   "source": [
    "print(not a)"
   ]
  },
  {
   "cell_type": "markdown",
   "id": "e5edecfc-6c17-4b1c-91d6-6523f802ea6a",
   "metadata": {},
   "source": [
    "### d). in "
   ]
  },
  {
   "cell_type": "markdown",
   "id": "440853ab-2901-443a-a9b8-efc10d4ec1a4",
   "metadata": {},
   "source": [
    "##### It checks that whether a specific value is present in given sequence."
   ]
  },
  {
   "cell_type": "code",
   "execution_count": 109,
   "id": "d5a71404-9a5b-44c5-928b-cd77a11539ce",
   "metadata": {},
   "outputs": [
    {
     "name": "stdout",
     "output_type": "stream",
     "text": [
      "True\n"
     ]
    }
   ],
   "source": [
    "print(5 in [1,2,3,4,5])"
   ]
  },
  {
   "cell_type": "markdown",
   "id": "25606e8a-b40f-4440-b6ac-aa9f474c662c",
   "metadata": {},
   "source": [
    "### e). is"
   ]
  },
  {
   "cell_type": "markdown",
   "id": "a32519e4-c80e-4175-bade-f86d9b17e611",
   "metadata": {},
   "source": [
    "##### It compares the identity of objects."
   ]
  },
  {
   "cell_type": "code",
   "execution_count": 132,
   "id": "7c15ba4f-c91a-4da3-bf49-2e69299d2c75",
   "metadata": {},
   "outputs": [
    {
     "name": "stdout",
     "output_type": "stream",
     "text": [
      "False\n"
     ]
    }
   ],
   "source": [
    "x = [\"Blue\", \"Green\", \"Red\"]\n",
    "\n",
    "y = [\"Blue\", \"Pink\", \"Red\"]\n",
    "\n",
    "print(x is y)"
   ]
  },
  {
   "cell_type": "markdown",
   "id": "677c294a-3312-42ed-b467-9b4d398e0bc8",
   "metadata": {},
   "source": [
    "### Conditional Keywords"
   ]
  },
  {
   "cell_type": "markdown",
   "id": "839fc754-f58e-42ed-bf3b-fd283716ecb6",
   "metadata": {},
   "source": [
    "##### These Keywords are used to execute code blocks with conditional statements.\n",
    "###  a). if\n",
    "##### It will execute the code block if the condition is True\n",
    "### b). elif\n",
    "##### it will execute the alternate code block if the 'if' condition is False\n",
    "### c). else\n",
    "##### it will execute the code block if none of the conditions are True\n",
    "##### for example"
   ]
  },
  {
   "cell_type": "code",
   "execution_count": 144,
   "id": "c2a28354-41a7-4e5f-8294-e11ecb386d31",
   "metadata": {},
   "outputs": [
    {
     "name": "stdout",
     "output_type": "stream",
     "text": [
      "x is greater than 5\n"
     ]
    }
   ],
   "source": [
    "# execution of if block\n",
    "x = 10\n",
    "if x > 5:\n",
    "    print(\"x is greater than 5\")\n",
    "elif x == 5:\n",
    "    print(\"x is equal to 5\")\n",
    "else:\n",
    "    print(\"x is smaller than 5\")"
   ]
  },
  {
   "cell_type": "code",
   "execution_count": 146,
   "id": "0a474a06-41a0-4b16-ab93-fc12b072ad58",
   "metadata": {},
   "outputs": [
    {
     "name": "stdout",
     "output_type": "stream",
     "text": [
      "x is equal to 5\n"
     ]
    }
   ],
   "source": [
    "# execution of elif block\n",
    "x = 5\n",
    "if x > 5:\n",
    "    print(\"x is greater than 5\")\n",
    "elif x == 5:\n",
    "    print(\"x is equal to 5\")\n",
    "else:\n",
    "    print(\"x is smaller than 5\")"
   ]
  },
  {
   "cell_type": "code",
   "execution_count": 148,
   "id": "cd124275-65f9-40e0-912a-c38cf30bc4c6",
   "metadata": {},
   "outputs": [
    {
     "name": "stdout",
     "output_type": "stream",
     "text": [
      "x is smaller than 5\n"
     ]
    }
   ],
   "source": [
    "# execution of else block\n",
    "\n",
    "x = 3\n",
    "if x > 5:\n",
    "    print(\"x is greater than 5\")\n",
    "elif x == 5:\n",
    "    print(\"x is equal to 5\")\n",
    "else:\n",
    "    print(\"x is smaller than 5\")"
   ]
  },
  {
   "cell_type": "markdown",
   "id": "d4a090c1-d778-4966-966a-5535d1f3a35f",
   "metadata": {},
   "source": [
    "### Iteration Keywords"
   ]
  },
  {
   "cell_type": "markdown",
   "id": "a10afe33-c684-448b-b502-e35b070b9958",
   "metadata": {},
   "source": [
    "##### The iteration keywords are used to control loop execution\n",
    "### a). for\n",
    "##### It iterates over the elements of a specific sequence.\n",
    "### b). while\n",
    "##### It will execute a code block as long as the condition is true\n"
   ]
  },
  {
   "cell_type": "code",
   "execution_count": 140,
   "id": "3d80d831-0431-40a8-905a-edbc3813edb6",
   "metadata": {},
   "outputs": [
    {
     "name": "stdout",
     "output_type": "stream",
     "text": [
      "0\n",
      "1\n",
      "2\n",
      " I found you\n",
      "4\n"
     ]
    }
   ],
   "source": [
    "# use of for loop \n",
    "\n",
    "for i in range(5):\n",
    "    if i ==3:\n",
    "        print(\" I found you\")\n",
    "    else:\n",
    "        print(i)"
   ]
  },
  {
   "cell_type": "code",
   "execution_count": 142,
   "id": "11f7466d-45fb-4299-9134-28d924a1314e",
   "metadata": {},
   "outputs": [
    {
     "name": "stdout",
     "output_type": "stream",
     "text": [
      "1\n",
      "2\n"
     ]
    }
   ],
   "source": [
    "# use of while loop \n",
    "\n",
    "i = 1\n",
    "while i < 3:\n",
    "  print(i)\n",
    "  i += 1"
   ]
  },
  {
   "cell_type": "markdown",
   "id": "f49d821d-e273-4cac-918c-9317852e61c4",
   "metadata": {},
   "source": [
    "### flow control keywords"
   ]
  },
  {
   "cell_type": "markdown",
   "id": "da26bba6-feaa-4ed6-9ed3-8ee95e87e707",
   "metadata": {},
   "source": [
    "#### These keywords control the flow of a loop\n",
    "### a). break\n",
    "##### It is used for terminating the loop before complition\n",
    "### b). continue\n",
    "##### It is used for skipping the current iteration and continue withthe next"
   ]
  },
  {
   "cell_type": "code",
   "execution_count": 153,
   "id": "bbe1f9ec-0717-46aa-8ef0-dc40f0c0c84d",
   "metadata": {},
   "outputs": [
    {
     "name": "stdout",
     "output_type": "stream",
     "text": [
      "0\n",
      "1\n",
      "2\n"
     ]
    }
   ],
   "source": [
    "# use of break keyword\n",
    "\n",
    "for i in range(5):\n",
    "    if i ==3: #when i is equal to 3 loop break\n",
    "        break\n",
    "    print(i)\n",
    "else:\n",
    "    print(\"loop complieted successfully\")"
   ]
  },
  {
   "cell_type": "code",
   "execution_count": 155,
   "id": "8a9e7596-5b5a-4c64-a35f-093a0770ce8d",
   "metadata": {},
   "outputs": [
    {
     "name": "stdout",
     "output_type": "stream",
     "text": [
      "1\n",
      "2\n",
      "4\n",
      "5\n",
      "6\n"
     ]
    }
   ],
   "source": [
    "# use of continue keyword\n",
    "\n",
    "i = 0\n",
    "while i < 6:\n",
    "  i += 1\n",
    "  if i == 3:  # here when i value reaches to 3 it skip and continue to next value of i 4.\n",
    "    continue\n",
    "  print(i)"
   ]
  },
  {
   "cell_type": "markdown",
   "id": "84a867f3-bc89-4743-bc41-65b281228960",
   "metadata": {},
   "source": [
    "### Structure keywords\n",
    "##### the structure keywords are used for defining structure of a program.\n",
    "### a). def\n",
    "##### It define a function\n"
   ]
  },
  {
   "cell_type": "code",
   "execution_count": 159,
   "id": "e6ae2bd3-1b7c-4deb-8608-f9bbfc264794",
   "metadata": {},
   "outputs": [
    {
     "name": "stdout",
     "output_type": "stream",
     "text": [
      "start the game\n"
     ]
    }
   ],
   "source": [
    "def game():\n",
    "    print(\"start the game\")\n",
    "\n",
    "game()"
   ]
  },
  {
   "cell_type": "markdown",
   "id": "985076e8-adb4-4faa-bfc4-fcd423660c75",
   "metadata": {},
   "source": [
    "###  b). class\n",
    "##### It define a class"
   ]
  },
  {
   "cell_type": "code",
   "execution_count": 162,
   "id": "36e5bb6a-3ffc-4526-8daa-ca14cc7dfffb",
   "metadata": {},
   "outputs": [],
   "source": [
    "class examclass:\n",
    "    pass"
   ]
  },
  {
   "cell_type": "markdown",
   "id": "12af6a0a-43ec-4323-b25a-15dd34ffbd81",
   "metadata": {},
   "source": [
    "### c). with\n",
    "##### It is used context manager to simplify resourse management\n",
    "### d). as\n",
    "##### It rename or aliases imported modules or objects\n"
   ]
  },
  {
   "cell_type": "markdown",
   "id": "bc6be6c1-d0fa-4920-9193-f05de2e52665",
   "metadata": {},
   "source": [
    "###### use of with and as keywords\n",
    "\n",
    "##### with open ('example.txt', 'r') as file:\n",
    "#####     data = file.read()"
   ]
  },
  {
   "cell_type": "markdown",
   "id": "b3e661cb-4e9e-4fca-b6c6-4d9c71108b4e",
   "metadata": {},
   "source": [
    "### e). pass\n",
    "##### It indicate that no action needs to be taken"
   ]
  },
  {
   "cell_type": "code",
   "execution_count": 177,
   "id": "f5774da0-1fb0-429e-b183-c056c31f39ed",
   "metadata": {},
   "outputs": [],
   "source": [
    "class examclass:\n",
    "    pass"
   ]
  },
  {
   "cell_type": "markdown",
   "id": "fec54bb2-e77f-486e-9238-ae9368751ea2",
   "metadata": {},
   "source": [
    "### f). lambda\n",
    "##### It creates an anonymous function"
   ]
  },
  {
   "cell_type": "code",
   "execution_count": 186,
   "id": "926db30e-5104-45cf-ac2d-bfa65f49a87b",
   "metadata": {},
   "outputs": [
    {
     "name": "stdout",
     "output_type": "stream",
     "text": [
      "10\n"
     ]
    }
   ],
   "source": [
    "lambda_func = lambda x: x + x   # here i create a lambda function with name lambda_func and variable x, in this function i added x into x\n",
    "print(lambda_func(5))          # i call the lanmbda function and give x value as 5"
   ]
  },
  {
   "cell_type": "markdown",
   "id": "4a2bc8ae-0e3f-46cf-811f-567424ed0a10",
   "metadata": {},
   "source": [
    "### Returning Keywords\n",
    "##### The returning keywords are used for returning values from function and generators \n"
   ]
  },
  {
   "cell_type": "markdown",
   "id": "380e7b83-e02f-4ffd-a83a-ff0688cde35d",
   "metadata": {},
   "source": [
    "### a). return\n",
    "##### It will exit the function and return a value asked"
   ]
  },
  {
   "cell_type": "code",
   "execution_count": 194,
   "id": "3eafbb4c-0d7e-47ff-974d-1751da624687",
   "metadata": {},
   "outputs": [
    {
     "data": {
      "text/plain": [
       "45"
      ]
     },
     "execution_count": 194,
     "metadata": {},
     "output_type": "execute_result"
    }
   ],
   "source": [
    "def exam_func():\n",
    "    return 45\n",
    "\n",
    "exam_func()"
   ]
  },
  {
   "cell_type": "markdown",
   "id": "6bcafe87-0410-48cc-8b14-eb1288177409",
   "metadata": {},
   "source": [
    "### b). yield \n",
    "##### It will stop the execution of a function and will return a value to the caller while the state of the function remain contant "
   ]
  },
  {
   "cell_type": "code",
   "execution_count": 199,
   "id": "95dec0bd-e28e-416b-af4b-365b3e46559f",
   "metadata": {},
   "outputs": [
    {
     "name": "stdout",
     "output_type": "stream",
     "text": [
      "[1, 2, 3, 4]\n"
     ]
    }
   ],
   "source": [
    "def gen_func():\n",
    "    yield 1\n",
    "    yield 2\n",
    "    yield 3\n",
    "    yield 4\n",
    "\n",
    "print(list(gen_func()))"
   ]
  },
  {
   "cell_type": "markdown",
   "id": "5b212a91-71a9-4777-ac6d-d532c03f3466",
   "metadata": {},
   "source": [
    "### import keywords\n",
    "##### the import keywords are used for importing symbols and modules in python\n",
    "### a). import\n",
    "##### It will import a whole module\n",
    "### b). from\n",
    "##### It will import specific symbole from modules"
   ]
  },
  {
   "cell_type": "code",
   "execution_count": 204,
   "id": "39b32dc9-c4c1-4211-8740-5a9289554451",
   "metadata": {},
   "outputs": [],
   "source": [
    "# Example of 'import' and 'from' keywords\n",
    "\n",
    "import math\n",
    "from datetime import datetime as dt"
   ]
  },
  {
   "cell_type": "markdown",
   "id": "7cf48b74-e4e6-448c-a8d5-4b9609553b29",
   "metadata": {},
   "source": [
    "### exception Handling keywords\n",
    "##### The exception handling keywords in python are used for handling exceptions in a python program\n",
    "### a). try\n",
    "##### It will start and check a code block that may have an exception butexecute it\n",
    "### b). except\n",
    "##### It is used for checking and handling exception\n",
    "### c). finally\n",
    "##### It will execute a code no matter if any execution occurs or not"
   ]
  },
  {
   "cell_type": "code",
   "execution_count": 217,
   "id": "0e8b79f3-3a64-42ca-8c76-7e090b065dee",
   "metadata": {},
   "outputs": [
    {
     "name": "stdout",
     "output_type": "stream",
     "text": [
      "error: Division by Zero\n",
      "cleanup code\n"
     ]
    }
   ],
   "source": [
    "try:\n",
    "    x = 1/0\n",
    "except ZeroDivisionError:\n",
    "    print(\"error: Division by Zero\")\n",
    "finally:\n",
    "    print(\"cleanup code\")"
   ]
  },
  {
   "cell_type": "markdown",
   "id": "1fb504a9-efb5-44a1-ab3d-9cdcbad41dd8",
   "metadata": {},
   "source": [
    "### d). raise\n",
    "##### It will raise an exception"
   ]
  },
  {
   "cell_type": "code",
   "execution_count": 226,
   "id": "1fec2d38-4813-4af8-bade-748647a281fa",
   "metadata": {},
   "outputs": [
    {
     "ename": "Exception",
     "evalue": "Sorry, no numbers below zero",
     "output_type": "error",
     "traceback": [
      "\u001b[1;31m---------------------------------------------------------------------------\u001b[0m",
      "\u001b[1;31mException\u001b[0m                                 Traceback (most recent call last)",
      "Cell \u001b[1;32mIn[226], line 3\u001b[0m\n\u001b[0;32m      1\u001b[0m x \u001b[38;5;241m=\u001b[39m \u001b[38;5;241m-\u001b[39m\u001b[38;5;241m1\u001b[39m\n\u001b[0;32m      2\u001b[0m \u001b[38;5;28;01mif\u001b[39;00m x \u001b[38;5;241m<\u001b[39m \u001b[38;5;241m0\u001b[39m:\n\u001b[1;32m----> 3\u001b[0m     \u001b[38;5;28;01mraise\u001b[39;00m \u001b[38;5;167;01mException\u001b[39;00m(\u001b[38;5;124m\"\u001b[39m\u001b[38;5;124mSorry, no numbers below zero\u001b[39m\u001b[38;5;124m\"\u001b[39m)\n",
      "\u001b[1;31mException\u001b[0m: Sorry, no numbers below zero"
     ]
    }
   ],
   "source": [
    "x = -1\n",
    "if x < 0:\n",
    "    raise Exception(\"Sorry, no numbers below zero\")"
   ]
  },
  {
   "cell_type": "markdown",
   "id": "8947e924-9539-44f7-aa40-410d2a7da5c3",
   "metadata": {},
   "source": [
    "### e). assert\n",
    "##### When the condition is False an assertionError is raised to assert a condition"
   ]
  },
  {
   "cell_type": "code",
   "execution_count": 234,
   "id": "ece4ce52-b50f-4f77-b370-e62d5171f85a",
   "metadata": {},
   "outputs": [
    {
     "ename": "AssertionError",
     "evalue": "",
     "output_type": "error",
     "traceback": [
      "\u001b[1;31m---------------------------------------------------------------------------\u001b[0m",
      "\u001b[1;31mAssertionError\u001b[0m                            Traceback (most recent call last)",
      "Cell \u001b[1;32mIn[234], line 7\u001b[0m\n\u001b[0;32m      4\u001b[0m \u001b[38;5;28;01massert\u001b[39;00m x \u001b[38;5;241m==\u001b[39m \u001b[38;5;124m\"\u001b[39m\u001b[38;5;124mwelcome\u001b[39m\u001b[38;5;124m\"\u001b[39m\n\u001b[0;32m      6\u001b[0m \u001b[38;5;66;03m#if condition returns False, AssertionError is raised:\u001b[39;00m\n\u001b[1;32m----> 7\u001b[0m \u001b[38;5;28;01massert\u001b[39;00m x \u001b[38;5;241m==\u001b[39m \u001b[38;5;124m\"\u001b[39m\u001b[38;5;124mgoodbye\u001b[39m\u001b[38;5;124m\"\u001b[39m\n",
      "\u001b[1;31mAssertionError\u001b[0m: "
     ]
    }
   ],
   "source": [
    "x = \"welcome\"\n",
    "\n",
    "#if condition returns True, then nothing happens:\n",
    "assert x == \"welcome\"\n",
    "\n",
    "#if condition returns False, AssertionError is raised:\n",
    "assert x == \"goodbye\""
   ]
  },
  {
   "cell_type": "markdown",
   "id": "d344075d-a7fa-42fa-8398-e2e018c4e707",
   "metadata": {},
   "source": [
    "### Asynchronous programming keywords\n",
    "### a). Async\n",
    "##### It is used for defining a coroutine function\n",
    "### b). await \n",
    "##### It will pause the execution of a coroutine function until its own coroutine function completes"
   ]
  },
  {
   "cell_type": "code",
   "execution_count": 260,
   "id": "ed6cb1a3-523a-474f-bfa6-1da6e72be1ae",
   "metadata": {},
   "outputs": [],
   "source": [
    "# example\n",
    "\n",
    "import asyncio\n",
    "\n",
    "async def exam_coroutine():\n",
    "    await asyncio.sleep(1)\n",
    "    print(\"async function execution\")\n",
    "\n",
    "async def main():\n",
    "    await exam_coroutine()\n",
    "\n",
    "asyncio.run(main())"
   ]
  },
  {
   "cell_type": "markdown",
   "id": "105fd298-8973-410e-9d09-462cb831f1c0",
   "metadata": {},
   "source": [
    "### Variable Handling keywords\n",
    "### a). del\n",
    "##### The del keyword is used to delete objects. In Python everything is an object, so the del keyword can also be used to delete variables, lists, or parts of a list etc."
   ]
  },
  {
   "cell_type": "code",
   "execution_count": 279,
   "id": "4657afa5-2db9-4014-830b-10fa76102690",
   "metadata": {},
   "outputs": [
    {
     "ename": "NameError",
     "evalue": "name 'x' is not defined",
     "output_type": "error",
     "traceback": [
      "\u001b[1;31m---------------------------------------------------------------------------\u001b[0m",
      "\u001b[1;31mNameError\u001b[0m                                 Traceback (most recent call last)",
      "Cell \u001b[1;32mIn[279], line 3\u001b[0m\n\u001b[0;32m      1\u001b[0m x \u001b[38;5;241m=\u001b[39m \u001b[38;5;241m10\u001b[39m\n\u001b[0;32m      2\u001b[0m \u001b[38;5;28;01mdel\u001b[39;00m x\n\u001b[1;32m----> 3\u001b[0m x\n",
      "\u001b[1;31mNameError\u001b[0m: name 'x' is not defined"
     ]
    }
   ],
   "source": [
    "x = 10\n",
    "del x\n",
    "x"
   ]
  },
  {
   "cell_type": "markdown",
   "id": "16124d33-b9e0-40a8-8626-2145af15d51e",
   "metadata": {},
   "source": [
    "### b). global\n",
    "##### The global keyword is used to create global variables from a no-global scope."
   ]
  },
  {
   "cell_type": "code",
   "execution_count": 268,
   "id": "18212a11-7a68-4d85-beae-36592170dcb2",
   "metadata": {},
   "outputs": [
    {
     "name": "stdout",
     "output_type": "stream",
     "text": [
      "hello\n"
     ]
    }
   ],
   "source": [
    "\n",
    "def myfunction():\n",
    "  global x        # Declaring x as a global variable\n",
    "  x = \"hello\"\n",
    "\n",
    "#execute the function:\n",
    "myfunction()\n",
    "\n",
    "#x should now be global, and accessible in the global scope.\n",
    "print(x)"
   ]
  },
  {
   "cell_type": "markdown",
   "id": "07c88432-a206-48a6-ba31-cc340e79c7db",
   "metadata": {},
   "source": [
    "### c). nonlocal\n",
    "##### The nonlocal keyword is used to work with variables inside nested functions, where the variable should not belong to the inner function.\n"
   ]
  },
  {
   "cell_type": "code",
   "execution_count": 277,
   "id": "c581e297-7bc4-46bd-a98b-14038bdcb5d4",
   "metadata": {},
   "outputs": [
    {
     "name": "stdout",
     "output_type": "stream",
     "text": [
      "hello\n"
     ]
    }
   ],
   "source": [
    "def myfunc1():\n",
    "  x = \"John\"\n",
    "  def myfunc2():\n",
    "    nonlocal x\n",
    "    x = \"hello\"\n",
    "  myfunc2()\n",
    "  return x\n",
    "\n",
    "print(myfunc1())"
   ]
  },
  {
   "cell_type": "code",
   "execution_count": null,
   "id": "4e97cd6d-e9a2-4a33-aee5-22dda183314f",
   "metadata": {},
   "outputs": [],
   "source": []
  }
 ],
 "metadata": {
  "kernelspec": {
   "display_name": "Python 3 (ipykernel)",
   "language": "python",
   "name": "python3"
  },
  "language_info": {
   "codemirror_mode": {
    "name": "ipython",
    "version": 3
   },
   "file_extension": ".py",
   "mimetype": "text/x-python",
   "name": "python",
   "nbconvert_exporter": "python",
   "pygments_lexer": "ipython3",
   "version": "3.11.7"
  }
 },
 "nbformat": 4,
 "nbformat_minor": 5
}
